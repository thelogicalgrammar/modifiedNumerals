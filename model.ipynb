{
 "cells": [
  {
   "cell_type": "code",
   "execution_count": 1,
   "metadata": {},
   "outputs": [],
   "source": [
    "import numpy as np\n",
    "import matplotlib.pyplot as plt\n",
    "import seaborn as sns\n",
    "from importlib import reload\n",
    "import pandas as pd\n",
    "\n",
    "from scipy.special import logsumexp\n",
    "from scipy.stats import norm, expon, binom, poisson, geom"
   ]
  },
  {
   "cell_type": "code",
   "execution_count": 8,
   "metadata": {},
   "outputs": [],
   "source": [
    "def normalize(array, axis):\n",
    "    return array / array.sum(axis=axis, keepdims=True)\n",
    "\n",
    "\n",
    "def logdotexp(A, B):\n",
    "    \"\"\"\n",
    "    Equivalent to: Exponentiate A and B, do a dot product, then log them\n",
    "    But more stable\n",
    "    \"\"\"\n",
    "    max_A = np.max(A)\n",
    "    max_B = np.max(B)\n",
    "    C = np.dot(np.exp(A - max_A), np.exp(B - max_B))\n",
    "    np.log(C, out=C)\n",
    "    C += max_A + max_B\n",
    "    return C\n",
    "\n",
    "\n",
    "def lognormalize(array, axis):\n",
    "    return array - logsumexp(array, axis=axis, keepdims=True)\n",
    "\n",
    "\n",
    "def log_basic_RSA(language_binary, listener_prior, alpha=4, costs=None):\n",
    "    if costs is None:\n",
    "        costs = np.zeros(len(language_binary))\n",
    "    l0_binary = normalize(language_binary*listener_prior[None], axis=1)\n",
    "    utility_binary = np.log(l0_binary)\n",
    "    costs_unnorm = np.exp(-costs.reshape(-1,1))\n",
    "    costs = normalize(costs_unnorm, axis=0)\n",
    "    unnorm_s1_binary = np.exp(alpha * utility_binary) * costs\n",
    "    s1_binary = normalize(unnorm_s1_binary, axis=0) \n",
    "    l1_binary = normalize(s1_binary*listener_prior[None], axis=1)\n",
    "    return np.log(l0_binary), np.log(s1_binary), np.log(l1_binary)\n",
    "\n",
    "\n",
    "def log_RSA_speaker(log_l, alpha):\n",
    "    # here I am implicity exponentiating it (i.e returning to normal space)\n",
    "    utility_graded = np.where(log_l==-np.inf, -np.inf, log_l)\n",
    "    # here it gets multiplied, then exponentiated, then back into log space\n",
    "    # but the exp and log simplify\n",
    "    log_unnorm_s = alpha * utility_graded\n",
    "    log_s = lognormalize(log_unnorm_s, axis=0)\n",
    "    return log_s"
   ]
  },
  {
   "cell_type": "code",
   "execution_count": 9,
   "metadata": {},
   "outputs": [],
   "source": [
    "def listener_to_speaker_single(l1, costs, rho=4):\n",
    "    \"\"\"\n",
    "    This function takes a pragmatic listener and models\n",
    "    their production behaviour in the experimental task\n",
    "    \n",
    "    In the experiment, the participants receives a signal and\n",
    "    has to produce a signal themselves. \n",
    "    The idea here is that the participant\n",
    "    samples the signal from their posterior distribution,\n",
    "    with an additional cost for producing less round numbers.\n",
    "    \n",
    "    Parameters\n",
    "    ----------\n",
    "    l1: array\n",
    "        Array with shape (# signals, # states). \n",
    "        Each row is a probability vector\n",
    "    costs: array\n",
    "        Array with len (# signals)\n",
    "        The cost of each numeral\n",
    "    \"\"\"\n",
    "    unnorm = np.exp(np.log(l1)*rho - costs.reshape(1,-1))\n",
    "    return normalize(unnorm,1)\n",
    "    \n",
    "\n",
    "def listener_to_speaker_bound(l1, costs, rho=4, clip=0.99):\n",
    "    \"\"\"\n",
    "    This function takes a pragmatic listener\n",
    "    and outputs a distribution over bounds\n",
    "    TODO: write this function\n",
    "    \"\"\"\n",
    "    cumsum = np.cumsum(l1, axis=1)\n",
    "    cumsum[cumsum>clip] = 0\n",
    "    norm_cumsum = normalize(cumsum,1)\n",
    "    unnorm = np.exp(np.log(norm_cumsum)*rho - costs.reshape(1,-1))\n",
    "    return normalize(unnorm,1)"
   ]
  },
  {
   "cell_type": "code",
   "execution_count": 6,
   "metadata": {},
   "outputs": [],
   "source": [
    "def calculate_cost(integers, roundness_divisors = np.array([100, 50, 10, 5, 1])):\n",
    "    \"\"\"\n",
    "    The idea is that cost is an inverse of roundness,\n",
    "    i.e. numbers divisible by 10, 20, 50, and 100 simpler.\n",
    "    Equation (2) in Hesse and Benz (2020), but reversed\n",
    "    because I am calculating cost rather than roundness.\n",
    "    NOTE: this is a vectorized function\n",
    "    \"\"\"    \n",
    "    # create an array with shape (# roundness levels, # integers) \n",
    "    # that encodes divisibility\n",
    "    divisibility = (integers % roundness_divisors.reshape(-1,1))==0\n",
    "    # identify the highest roudness level for each integer\n",
    "    costs = np.argmax(np.cumsum(divisibility, axis=0)>0, axis=0)\n",
    "    return costs\n",
    "\n",
    "def create_more_than_language(size, granularity, return_compatibility=False):\n",
    "    # granularity means how far away the signals are to each other\n",
    "    # the language array has shape (# signals, # states)\n",
    "    # np.triu here creates an array with 1s above the main diagonal\n",
    "    language = np.triu(np.ones((size,size)))[::granularity]\n",
    "    if not return_compatibility:\n",
    "        return language\n",
    "    Xs, Ys = np.mgrid[0:len(language),0:len(language)]\n",
    "    # if the index for both x and y is a multiple or 10, \n",
    "    # or if the x index is not a multiple of 10\n",
    "    compatibility_array = ((Xs%10==0)&(Ys%10==0))|(Xs%10!=0)\n",
    "    return language, compatibility_array\n",
    "    \n",
    "\n",
    "def create_exactly_language(size, granularity, return_compatibility=False):\n",
    "    language = np.row_stack((\n",
    "        np.ones(size),\n",
    "        np.eye(size,size)[::granularity]\n",
    "    ))\n",
    "    if not return_compatibility:\n",
    "        return language\n",
    "    Xs, Ys = np.mgrid[0:len(language),0:len(language)]\n",
    "    compatibility_array = ((Xs%10==0)&(Ys%10==0))|(Xs%10!=0)\n",
    "    return language, compatibility_array"
   ]
  },
  {
   "cell_type": "markdown",
   "metadata": {},
   "source": [
    "# Models"
   ]
  },
  {
   "cell_type": "markdown",
   "metadata": {},
   "source": [
    "Priors"
   ]
  },
  {
   "cell_type": "code",
   "execution_count": 13,
   "metadata": {},
   "outputs": [
    {
     "data": {
      "text/plain": [
       "[<matplotlib.lines.Line2D at 0x228d6087c10>]"
      ]
     },
     "execution_count": 13,
     "metadata": {},
     "output_type": "execute_result"
    },
    {
     "data": {
      "image/png": "[encoded data removed]",
      "text/plain": [
       "<Figure size 432x288 with 1 Axes>"
      ]
     },
     "metadata": {
      "needs_background": "light"
     },
     "output_type": "display_data"
    }
   ],
   "source": [
    "xs = np.arange(30000)\n",
    "plt.plot(xs, geom.pmf(xs,0.00005))"
   ]
  },
  {
   "cell_type": "code",
   "execution_count": 10,
   "metadata": {},
   "outputs": [
    {
     "name": "stderr",
     "output_type": "stream",
     "text": [
      "<ipython-input-8-aa0e23a83b91>:26: RuntimeWarning: divide by zero encountered in log\n",
      "  utility_binary = np.log(l0_binary)\n",
      "<ipython-input-8-aa0e23a83b91>:32: RuntimeWarning: divide by zero encountered in log\n",
      "  return np.log(l0_binary), np.log(s1_binary), np.log(l1_binary)\n"
     ]
    }
   ],
   "source": [
    "size = 1000\n",
    "language = create_more_than_language(size, 1)\n",
    "costs = calculate_cost(\n",
    "    np.arange(size),\n",
    "    roundness_divisors = np.array([\n",
    "        1000, 500, 200, \n",
    "        100, 50, 10, 5, 1\n",
    "    ])\n",
    ")\n",
    "prior = geom.pmf(np.arange(1,size+1),0.007)\n",
    "\n",
    "_,_, l1 = np.exp(log_basic_RSA(\n",
    "    language, \n",
    "    listener_prior=prior,\n",
    "    alpha=7, \n",
    "    costs=costs\n",
    "))\n",
    "\n",
    "\n",
    "# Since all columns need to apply to at least one value, \n",
    "# signal 0 means \"more than 0\"\n",
    "# but state 0 refers to number 1\n",
    "# (otherwise the first column would be all 0s)\n",
    "\n",
    "# To make it such that the index corresponds to the number, I add a column of 0s as the first column\n",
    "l1 = np.column_stack((np.zeros(len(l1)),l1[:,:-1]))"
   ]
  },
  {
   "cell_type": "code",
   "execution_count": 11,
   "metadata": {},
   "outputs": [
    {
     "data": {
      "image/png": "[encoded data removed]",
      "text/plain": [
       "<Figure size 432x180 with 12 Axes>"
      ]
     },
     "metadata": {
      "needs_background": "light"
     },
     "output_type": "display_data"
    }
   ],
   "source": [
    "fig, axes = plt.subplots(\n",
    "    5,3, \n",
    "    sharex=True, \n",
    "    figsize=(6,2.5),\n",
    "    gridspec_kw={'width_ratios':[2]+[1]*2}\n",
    ")\n",
    "\n",
    "###### plot the heatmap\n",
    "\n",
    "gs = axes[0, 0].get_gridspec()\n",
    "# remove the underlying axes\n",
    "for ax in axes[:,0]:\n",
    "    ax.remove()\n",
    "\n",
    "ax_heatmap = fig.add_subplot(gs[:, 0])\n",
    "\n",
    "(ymin, ymax), (xmin, xmax) = (30,61), (25,81)\n",
    "df = pd.DataFrame(\n",
    "    l1[ymin:ymax,xmin:xmax],\n",
    "    index=np.arange(ymin,ymax),\n",
    "    columns=np.arange(xmin,xmax)\n",
    ")\n",
    "sns.heatmap(\n",
    "    df,\n",
    "    xticklabels=10,\n",
    "    yticklabels=5,\n",
    "    ax=ax_heatmap,\n",
    "#     cbar_kws = dict(use_gridspec=False,location=\"top\")\n",
    ")\n",
    "\n",
    "ax_heatmap.set_xlabel('States')\n",
    "ax_heatmap.set_ylabel('Signals')\n",
    "\n",
    "######## plot the single distributions\n",
    "\n",
    "for i, ax in enumerate(axes[:,1:].T.flatten()):\n",
    "    n = 100+i*10\n",
    "    ax.plot(l1[n])\n",
    "    ax.text(\n",
    "        0.8 if i<5 else 0., \n",
    "        0.4,\n",
    "        n,\n",
    "        transform=ax.transAxes\n",
    "    )\n",
    "    ax.set_xlim(100,250)\n",
    "\n",
    "sns.despine(fig, left=True)\n",
    "[a.set_yticks([]) for a in axes.flatten()]\n",
    "axes[-1,1].set_xlabel('States')\n",
    "axes[-1,2].set_xlabel('States')\n",
    "fig.subplots_adjust(bottom=0.2,)\n",
    "fig.tight_layout()\n",
    "# plt.savefig('l1_morethan.png', dpi=300)\n",
    "plt.show()"
   ]
  },
  {
   "cell_type": "code",
   "execution_count": 148,
   "metadata": {},
   "outputs": [
    {
     "name": "stderr",
     "output_type": "stream",
     "text": [
      "<ipython-input-39-354c016e9fe2>:21: RuntimeWarning: divide by zero encountered in log\n",
      "  unnorm = np.exp(np.log(l1)*rho - costs.reshape(1,-1))\n",
      "<ipython-input-38-56f88398daac>:2: RuntimeWarning: invalid value encountered in true_divide\n",
      "  return array / array.sum(axis=axis, keepdims=True)\n"
     ]
    }
   ],
   "source": [
    "production_p = listener_to_speaker_single(l1, costs, rho=3)"
   ]
  },
  {
   "cell_type": "code",
   "execution_count": 149,
   "metadata": {},
   "outputs": [
    {
     "data": {
      "image/png": "[encoded data removed]",
      "text/plain": [
       "<Figure size 432x144 with 10 Axes>"
      ]
     },
     "metadata": {
      "needs_background": "light"
     },
     "output_type": "display_data"
    }
   ],
   "source": [
    "fig, axes = plt.subplots(5,2, sharex=True, figsize=(6,2))\n",
    "\n",
    "for i, ax in enumerate(axes.T.flatten()):\n",
    "    ax.plot(production_p[i*20])\n",
    "    ax.text(\n",
    "        0.8 if i<5 else 0.1, \n",
    "        0.5,\n",
    "        i*20,\n",
    "        transform=ax.transAxes\n",
    "    )\n",
    "sns.despine(fig, left=True)\n",
    "[a.set_yticks([]) for a in axes.flatten()]\n",
    "[a.set_xlim(0,210) for a in axes.flatten()]\n",
    "[a.set_xlabel('States') for a in axes[-1,:].flatten()]\n",
    "# fig.tight_layout()\n",
    "fig.subplots_adjust(bottom=0.2)\n",
    "fig.savefig('productionProbs.png', dpi=300)"
   ]
  },
  {
   "cell_type": "code",
   "execution_count": 290,
   "metadata": {},
   "outputs": [
    {
     "name": "stderr",
     "output_type": "stream",
     "text": [
      "<ipython-input-38-56f88398daac>:2: RuntimeWarning: invalid value encountered in true_divide\n",
      "  return array / array.sum(axis=axis, keepdims=True)\n",
      "<ipython-input-287-f546bbfe3de0>:34: RuntimeWarning: divide by zero encountered in log\n",
      "  unnorm = np.exp(np.log(norm_cumsum)*rho - costs.reshape(1,-1))\n"
     ]
    }
   ],
   "source": [
    "production_c = listener_to_speaker_bound(l1, costs, rho=7)"
   ]
  },
  {
   "cell_type": "code",
   "execution_count": 294,
   "metadata": {},
   "outputs": [
    {
     "data": {
      "image/png": "[encoded data removed]",
      "text/plain": [
       "<Figure size 144x288 with 9 Axes>"
      ]
     },
     "metadata": {
      "needs_background": "light"
     },
     "output_type": "display_data"
    }
   ],
   "source": [
    "fig, axes = plt.subplots(\n",
    "    9,1, \n",
    "    sharex=True, \n",
    "    figsize=(2,4)\n",
    ")\n",
    "\n",
    "numerals_to_plot = np.arange(120,201,10)\n",
    "for i, ax in zip(numerals_to_plot, axes.T.flatten()):\n",
    "    ax.plot(production_c[i])\n",
    "    ax.text(\n",
    "        0., \n",
    "        0.5,\n",
    "        i,\n",
    "        transform=ax.transAxes\n",
    "    )\n",
    "sns.despine(fig, left=True)\n",
    "[a.set_yticks([]) for a in axes.flatten()]\n",
    "[a.set_xlim(100,300) for a in axes.flatten()]\n",
    "axes[-1].set_xlabel('States')\n",
    "fig.tight_layout()\n",
    "fig.savefig('boundsProbs.png', dpi=300)"
   ]
  },
  {
   "cell_type": "markdown",
   "metadata": {},
   "source": [
    "## Large numerals"
   ]
  },
  {
   "cell_type": "code",
   "execution_count": 6,
   "metadata": {},
   "outputs": [
    {
     "name": "stderr",
     "output_type": "stream",
     "text": [
      "<ipython-input-2-56f88398daac>:26: RuntimeWarning: divide by zero encountered in log\n",
      "  utility_binary = np.log(l0_binary)\n",
      "<ipython-input-2-56f88398daac>:30: RuntimeWarning: divide by zero encountered in log\n",
      "  return np.log(l0_binary), np.log(s1_binary), np.log(l1_binary)\n"
     ]
    }
   ],
   "source": [
    "size = 10000\n",
    "language = create_more_than_language(size, 1)\n",
    "\n",
    "costs = calculate_cost(\n",
    "    np.arange(size), \n",
    "    roundness_divisors = np.array([\n",
    "        1000, 500, 200, \n",
    "        100, 50, 10, 5, 1\n",
    "    ])\n",
    ")\n",
    "\n",
    "prior_small = geom.pmf(np.arange(1,size+1),0.007)\n",
    "prior_big = geom.pmf(np.arange(1,size+1),0.0002)\n",
    "\n",
    "_,_, l1_small = np.exp(log_basic_RSA(language, listener_prior=prior_small, alpha=10, costs=costs))\n",
    "_,_, l1_big = np.exp(log_basic_RSA(language, listener_prior=prior_big, alpha=10, costs=costs))\n",
    "\n",
    "l1_small = np.column_stack((np.zeros(len(l1_small)),l1_small[:,:-1]))\n",
    "l1_big = np.column_stack((np.zeros(len(l1_big)),l1_big[:,:-1]))"
   ]
  },
  {
   "cell_type": "code",
   "execution_count": 37,
   "metadata": {},
   "outputs": [
    {
     "data": {
      "image/png": "[encoded data removed]",
      "text/plain": [
       "<Figure size 288x108 with 1 Axes>"
      ]
     },
     "metadata": {
      "needs_background": "light"
     },
     "output_type": "display_data"
    }
   ],
   "source": [
    "fig, ax_dists = plt.subplots(figsize=(4,1.5))\n",
    "xs = np.arange(10000)\n",
    "ax_dists.plot(xs, geom.pmf(xs,0.007), label=r'$k=7\\mathrm{e}{-3}$')\n",
    "ax_dists.plot(xs, geom.pmf(xs,0.0002), label=r'$k=2\\mathrm{e}{-4}$')\n",
    "ax_dists.set_yticks([])\n",
    "ax_dists.set_xlabel('States')\n",
    "ax_dists.legend(frameon=False)\n",
    "sns.despine(fig, left=True)\n",
    "# plt.show()\n",
    "# fig.tight_layout()\n",
    "fig.subplots_adjust(bottom=0.3)\n",
    "fig.savefig('priors.png', dpi=300)"
   ]
  },
  {
   "cell_type": "code",
   "execution_count": 38,
   "metadata": {},
   "outputs": [
    {
     "data": {
      "image/png": "[encoded data removed]",
      "text/plain": [
       "<Figure size 288x144 with 10 Axes>"
      ]
     },
     "metadata": {
      "needs_background": "light"
     },
     "output_type": "display_data"
    }
   ],
   "source": [
    "fig, axes = plt.subplots(\n",
    "    5,2, \n",
    "    sharex=True, \n",
    "    figsize=(4,2),\n",
    "#     gridspec_kw={'width_ratios':[2,2,1]}\n",
    ")\n",
    "\n",
    "numerals_to_show = np.arange(4000,7001,300)\n",
    "\n",
    "for i, ax in zip(numerals_to_show, axes.T.flatten()):\n",
    "    ax.plot(l1_big[i])\n",
    "    ax.text(\n",
    "        0.8 if i<5500 else 0.1, \n",
    "        0.4,\n",
    "        i,\n",
    "        transform=ax.transAxes\n",
    "    )\n",
    "\n",
    "[a.set_yticks([]) for a in axes.flatten()]\n",
    "[a.set_xlim(4000,7500) for a in axes[:,0].flatten()]\n",
    "[a.set_xticks([4000, 5000, 6000, 7000]) for a in axes[:,0].flatten()]\n",
    "[a.set_xticklabels(['4k', '5k', '6k', '7k']) for a in axes[:,0].flatten()]\n",
    "[a.set_xlabel('States') for a in axes[-1].flatten()]\n",
    "sns.despine(fig, left=True)\n",
    "# fig.subplots_adjust(\n",
    "#     bottom=0.2, \n",
    "#     left=0.05, \n",
    "#     right=0.95\n",
    "# )\n",
    "# fig.tight_layout()\n",
    "fig.subplots_adjust(bottom=0.2)\n",
    "fig.savefig('largeNumeralsDist.png', dpi=300)\n",
    "# plt.show()"
   ]
  },
  {
   "cell_type": "markdown",
   "metadata": {},
   "source": [
    "## Other plots"
   ]
  },
  {
   "cell_type": "code",
   "execution_count": 301,
   "metadata": {},
   "outputs": [
    {
     "data": {
      "image/png": "[encoded data removed]",
      "text/plain": [
       "<Figure size 360x144 with 3 Axes>"
      ]
     },
     "metadata": {
      "needs_background": "light"
     },
     "output_type": "display_data"
    }
   ],
   "source": [
    "fig, (ax1,ax2,ax3) = plt.subplots(3,1, sharex=True, figsize=(5,2))\n",
    "xs = np.linspace(10,20,1000)\n",
    "\n",
    "####### top plot (normal-like)\n",
    "\n",
    "for i in range(11,20):\n",
    "    mean = i+1\n",
    "    ax1.plot(\n",
    "        xs, \n",
    "        norm.pdf(xs,loc=mean,scale=0.3),\n",
    "        color='blue',\n",
    "        alpha=0.3\n",
    "    )\n",
    "    ax1.text(\n",
    "        mean,\n",
    "        1.6,\n",
    "        i,\n",
    "        horizontalalignment='center',\n",
    "        color='blue'\n",
    "    )\n",
    "ax1.plot(\n",
    "    xs, \n",
    "    norm.pdf(xs,loc=15,scale=1)*2,\n",
    "    color='red'\n",
    ")\n",
    "ax1.text(\n",
    "    15.5,\n",
    "    1,\n",
    "    10,\n",
    "    horizontalalignment='center',\n",
    "    color='red'\n",
    ")\n",
    "\n",
    "ax1.set_ylabel('a', rotation=0)\n",
    "\n",
    "####### middle plot (exponential-like)\n",
    "\n",
    "for i in range(11,20):\n",
    "    mean = i\n",
    "    ax2.plot(\n",
    "        xs, \n",
    "        expon.pdf(xs,loc=mean,scale=0.3),\n",
    "        color='blue',\n",
    "        alpha=0.3\n",
    "    )\n",
    "    ax2.text(\n",
    "        mean,\n",
    "        4,\n",
    "        i,\n",
    "        horizontalalignment='center',\n",
    "        color='blue'\n",
    "    )\n",
    "\n",
    "ax2.plot(\n",
    "    xs, \n",
    "    expon.pdf(xs,loc=10,scale=2)*4,\n",
    "    color='red'\n",
    ")\n",
    "ax2.text(\n",
    "    10.5,\n",
    "    2.5,\n",
    "    10,\n",
    "    horizontalalignment='center',\n",
    "    color='red'\n",
    ")\n",
    "\n",
    "ax2.set_ylabel('b', rotation=0)\n",
    "\n",
    "####### bottom plot (uniform-like)\n",
    "ax3.set_ylim(0)\n",
    "local_xs = np.linspace(11,20,1000)\n",
    "for i in range(11,20):\n",
    "    mean = i+1\n",
    "    ax3.plot(\n",
    "        local_xs, \n",
    "        [1]*len(local_xs),\n",
    "        color='blue',\n",
    "        alpha=0.3\n",
    "    )\n",
    "    ax3.text(\n",
    "        mean,\n",
    "        1.1,\n",
    "        i,\n",
    "        horizontalalignment='center',\n",
    "        color='blue'\n",
    "    )\n",
    "\n",
    "ax3.plot(\n",
    "    xs, \n",
    "    [0.5]*len(xs),\n",
    "    color='red'\n",
    ")\n",
    "ax3.text(\n",
    "    10.5,\n",
    "    0.7,\n",
    "    10,\n",
    "    horizontalalignment='center',\n",
    "    color='red'\n",
    ")\n",
    "\n",
    "ax3.set_ylabel('c', rotation=0)\n",
    "\n",
    "ax3.set_xlabel('$n$')\n",
    "sns.despine(fig, left=True)\n",
    "[a.set_yticks([]) for a in [ax1,ax2,ax3]]\n",
    "ax3.set_xticks(np.arange(10,21))\n",
    "fig.subplots_adjust(hspace=1.3,bottom=0.2)\n",
    "\n",
    "fig.savefig('possibleDistributions.png', dpi=300)"
   ]
  },
  {
   "cell_type": "markdown",
   "metadata": {},
   "source": [
    "# Hesse & Benz (2020) data"
   ]
  },
  {
   "cell_type": "code",
   "execution_count": 18,
   "metadata": {},
   "outputs": [],
   "source": [
    "import pandas as pd"
   ]
  },
  {
   "cell_type": "code",
   "execution_count": 29,
   "metadata": {},
   "outputs": [
    {
     "name": "stderr",
     "output_type": "stream",
     "text": [
      "<ipython-input-29-9f4ddb3601e5>:1: ParserWarning: Falling back to the 'python' engine because the 'c' engine does not support regex separators (separators > 1 char and different from '\\s+' are interpreted as regex); you can avoid this warning by specifying engine='python'.\n",
      "  df_exp_3 = pd.read_csv('HesseBenz2020/exp3.csv', sep=r\"\\t\")\n"
     ]
    }
   ],
   "source": [
    "df_exp_3 = pd.read_csv('HesseBenz2020/exp3.csv', sep=r\"\\t\")"
   ]
  },
  {
   "cell_type": "markdown",
   "metadata": {},
   "source": [
    "- p: most likely value\n",
    "- c: shown numeral\n",
    "- q: quantifier (more than / less than)\n",
    "- r: roundness\n",
    "- lb: lower bound of range\n",
    "- up: upper bound of range\n",
    "- ib: upper bound if quantifier is 'more than', lower bound if quantifier is 'less than'\n",
    "- int_lbub: interval lower bound to upper bound\n",
    "- int_cib: interval c to relevant boundary i\n",
    "- int_cp: interval c to p"
   ]
  },
  {
   "cell_type": "code",
   "execution_count": 61,
   "metadata": {},
   "outputs": [
    {
     "data": {
      "text/html": [
       "<div>\n",
       "<style scoped>\n",
       "    .dataframe tbody tr th:only-of-type {\n",
       "        vertical-align: middle;\n",
       "    }\n",
       "\n",
       "    .dataframe tbody tr th {\n",
       "        vertical-align: top;\n",
       "    }\n",
       "\n",
       "    .dataframe thead th {\n",
       "        text-align: right;\n",
       "    }\n",
       "</style>\n",
       "<table border=\"1\" class=\"dataframe\">\n",
       "  <thead>\n",
       "    <tr style=\"text-align: right;\">\n",
       "      <th></th>\n",
       "      <th>id</th>\n",
       "      <th>participant</th>\n",
       "      <th>c</th>\n",
       "      <th>q</th>\n",
       "      <th>r</th>\n",
       "      <th>lb</th>\n",
       "      <th>p</th>\n",
       "      <th>ub</th>\n",
       "      <th>ib</th>\n",
       "      <th>int_lbub</th>\n",
       "      <th>int_cib</th>\n",
       "      <th>int_cp</th>\n",
       "      <th>interpret</th>\n",
       "    </tr>\n",
       "  </thead>\n",
       "  <tbody>\n",
       "    <tr>\n",
       "      <th>2</th>\n",
       "      <td>3</td>\n",
       "      <td>1003</td>\n",
       "      <td>19000</td>\n",
       "      <td>&gt;</td>\n",
       "      <td>3</td>\n",
       "      <td>19000</td>\n",
       "      <td>19500.0</td>\n",
       "      <td>50000</td>\n",
       "      <td>50000</td>\n",
       "      <td>31000</td>\n",
       "      <td>31000</td>\n",
       "      <td>500.0</td>\n",
       "      <td>prag</td>\n",
       "    </tr>\n",
       "    <tr>\n",
       "      <th>52</th>\n",
       "      <td>53</td>\n",
       "      <td>1003</td>\n",
       "      <td>16000</td>\n",
       "      <td>&lt;</td>\n",
       "      <td>3</td>\n",
       "      <td>0</td>\n",
       "      <td>15999.0</td>\n",
       "      <td>16000</td>\n",
       "      <td>0</td>\n",
       "      <td>16000</td>\n",
       "      <td>16000</td>\n",
       "      <td>1.0</td>\n",
       "      <td>sem</td>\n",
       "    </tr>\n",
       "    <tr>\n",
       "      <th>102</th>\n",
       "      <td>103</td>\n",
       "      <td>1003</td>\n",
       "      <td>25000</td>\n",
       "      <td>&gt;</td>\n",
       "      <td>4</td>\n",
       "      <td>25000</td>\n",
       "      <td>26000.0</td>\n",
       "      <td>50000</td>\n",
       "      <td>50000</td>\n",
       "      <td>25000</td>\n",
       "      <td>25000</td>\n",
       "      <td>1000.0</td>\n",
       "      <td>prag</td>\n",
       "    </tr>\n",
       "    <tr>\n",
       "      <th>152</th>\n",
       "      <td>153</td>\n",
       "      <td>1003</td>\n",
       "      <td>1000</td>\n",
       "      <td>&lt;</td>\n",
       "      <td>5</td>\n",
       "      <td>0</td>\n",
       "      <td>900.0</td>\n",
       "      <td>1000</td>\n",
       "      <td>0</td>\n",
       "      <td>1000</td>\n",
       "      <td>1000</td>\n",
       "      <td>100.0</td>\n",
       "      <td>sem</td>\n",
       "    </tr>\n",
       "    <tr>\n",
       "      <th>202</th>\n",
       "      <td>203</td>\n",
       "      <td>1003</td>\n",
       "      <td>1100</td>\n",
       "      <td>&lt;</td>\n",
       "      <td>3</td>\n",
       "      <td>1000</td>\n",
       "      <td>1099.0</td>\n",
       "      <td>1099</td>\n",
       "      <td>1000</td>\n",
       "      <td>99</td>\n",
       "      <td>100</td>\n",
       "      <td>1.0</td>\n",
       "      <td>prag</td>\n",
       "    </tr>\n",
       "  </tbody>\n",
       "</table>\n",
       "</div>"
      ],
      "text/plain": [
       "      id  participant      c  q  r     lb        p     ub     ib  int_lbub  \\\n",
       "2      3         1003  19000  >  3  19000  19500.0  50000  50000     31000   \n",
       "52    53         1003  16000  <  3      0  15999.0  16000      0     16000   \n",
       "102  103         1003  25000  >  4  25000  26000.0  50000  50000     25000   \n",
       "152  153         1003   1000  <  5      0    900.0   1000      0      1000   \n",
       "202  203         1003   1100  <  3   1000   1099.0   1099   1000        99   \n",
       "\n",
       "     int_cib  int_cp interpret  \n",
       "2      31000   500.0      prag  \n",
       "52     16000     1.0       sem  \n",
       "102    25000  1000.0      prag  \n",
       "152     1000   100.0       sem  \n",
       "202      100     1.0      prag  "
      ]
     },
     "execution_count": 61,
     "metadata": {},
     "output_type": "execute_result"
    }
   ],
   "source": [
    "df_exp_3[df_exp_3['participant']==1003]"
   ]
  },
  {
   "cell_type": "code",
   "execution_count": 34,
   "metadata": {},
   "outputs": [
    {
     "data": {
      "text/plain": [
       "array([ 1000,  1100,  1400, 15000, 16000, 19000, 20000, 21000, 24000,\n",
       "       25000], dtype=int64)"
      ]
     },
     "execution_count": 34,
     "metadata": {},
     "output_type": "execute_result"
    }
   ],
   "source": [
    "np.sort(df_exp_3['c'].unique())"
   ]
  },
  {
   "cell_type": "code",
   "execution_count": 127,
   "metadata": {},
   "outputs": [
    {
     "data": {
      "text/plain": [
       "(1000, 13)"
      ]
     },
     "execution_count": 127,
     "metadata": {},
     "output_type": "execute_result"
    }
   ],
   "source": [
    "df_exp_3.shape"
   ]
  },
  {
   "cell_type": "code",
   "execution_count": 126,
   "metadata": {},
   "outputs": [
    {
     "data": {
      "text/html": [
       "<div>\n",
       "<style scoped>\n",
       "    .dataframe tbody tr th:only-of-type {\n",
       "        vertical-align: middle;\n",
       "    }\n",
       "\n",
       "    .dataframe tbody tr th {\n",
       "        vertical-align: top;\n",
       "    }\n",
       "\n",
       "    .dataframe thead th {\n",
       "        text-align: right;\n",
       "    }\n",
       "</style>\n",
       "<table border=\"1\" class=\"dataframe\">\n",
       "  <thead>\n",
       "    <tr style=\"text-align: right;\">\n",
       "      <th></th>\n",
       "      <th>index</th>\n",
       "      <th>id</th>\n",
       "      <th>participant</th>\n",
       "      <th>c</th>\n",
       "      <th>q</th>\n",
       "      <th>r</th>\n",
       "      <th>lb</th>\n",
       "      <th>p</th>\n",
       "      <th>ub</th>\n",
       "      <th>ib</th>\n",
       "      <th>int_lbub</th>\n",
       "      <th>int_cib</th>\n",
       "      <th>int_cp</th>\n",
       "      <th>interpret</th>\n",
       "    </tr>\n",
       "  </thead>\n",
       "  <tbody>\n",
       "    <tr>\n",
       "      <th>0</th>\n",
       "      <td>19</td>\n",
       "      <td>20</td>\n",
       "      <td>1020</td>\n",
       "      <td>19000</td>\n",
       "      <td>&gt;</td>\n",
       "      <td>3</td>\n",
       "      <td>19100</td>\n",
       "      <td>19400.0</td>\n",
       "      <td>20000</td>\n",
       "      <td>20000</td>\n",
       "      <td>900</td>\n",
       "      <td>1000</td>\n",
       "      <td>400.0</td>\n",
       "      <td>prag</td>\n",
       "    </tr>\n",
       "    <tr>\n",
       "      <th>1</th>\n",
       "      <td>24</td>\n",
       "      <td>25</td>\n",
       "      <td>1025</td>\n",
       "      <td>19000</td>\n",
       "      <td>&gt;</td>\n",
       "      <td>3</td>\n",
       "      <td>18000</td>\n",
       "      <td>19200.0</td>\n",
       "      <td>20000</td>\n",
       "      <td>20000</td>\n",
       "      <td>2000</td>\n",
       "      <td>1000</td>\n",
       "      <td>200.0</td>\n",
       "      <td>prag</td>\n",
       "    </tr>\n",
       "    <tr>\n",
       "      <th>2</th>\n",
       "      <td>35</td>\n",
       "      <td>36</td>\n",
       "      <td>1036</td>\n",
       "      <td>19000</td>\n",
       "      <td>&gt;</td>\n",
       "      <td>3</td>\n",
       "      <td>19000</td>\n",
       "      <td>19750.0</td>\n",
       "      <td>20000</td>\n",
       "      <td>20000</td>\n",
       "      <td>1000</td>\n",
       "      <td>1000</td>\n",
       "      <td>750.0</td>\n",
       "      <td>prag</td>\n",
       "    </tr>\n",
       "    <tr>\n",
       "      <th>3</th>\n",
       "      <td>38</td>\n",
       "      <td>39</td>\n",
       "      <td>1039</td>\n",
       "      <td>19000</td>\n",
       "      <td>&gt;</td>\n",
       "      <td>3</td>\n",
       "      <td>19001</td>\n",
       "      <td>19001.0</td>\n",
       "      <td>20000</td>\n",
       "      <td>20000</td>\n",
       "      <td>999</td>\n",
       "      <td>1000</td>\n",
       "      <td>1.0</td>\n",
       "      <td>prag</td>\n",
       "    </tr>\n",
       "    <tr>\n",
       "      <th>4</th>\n",
       "      <td>50</td>\n",
       "      <td>51</td>\n",
       "      <td>1001</td>\n",
       "      <td>16000</td>\n",
       "      <td>&lt;</td>\n",
       "      <td>3</td>\n",
       "      <td>15000</td>\n",
       "      <td>15600.0</td>\n",
       "      <td>16000</td>\n",
       "      <td>15000</td>\n",
       "      <td>1000</td>\n",
       "      <td>1000</td>\n",
       "      <td>400.0</td>\n",
       "      <td>prag</td>\n",
       "    </tr>\n",
       "    <tr>\n",
       "      <th>...</th>\n",
       "      <td>...</td>\n",
       "      <td>...</td>\n",
       "      <td>...</td>\n",
       "      <td>...</td>\n",
       "      <td>...</td>\n",
       "      <td>...</td>\n",
       "      <td>...</td>\n",
       "      <td>...</td>\n",
       "      <td>...</td>\n",
       "      <td>...</td>\n",
       "      <td>...</td>\n",
       "      <td>...</td>\n",
       "      <td>...</td>\n",
       "      <td>...</td>\n",
       "    </tr>\n",
       "    <tr>\n",
       "      <th>84</th>\n",
       "      <td>928</td>\n",
       "      <td>929</td>\n",
       "      <td>4029</td>\n",
       "      <td>20000</td>\n",
       "      <td>&gt;</td>\n",
       "      <td>5</td>\n",
       "      <td>20001</td>\n",
       "      <td>25690.0</td>\n",
       "      <td>50000</td>\n",
       "      <td>50000</td>\n",
       "      <td>29999</td>\n",
       "      <td>30000</td>\n",
       "      <td>5690.0</td>\n",
       "      <td>prag</td>\n",
       "    </tr>\n",
       "    <tr>\n",
       "      <th>85</th>\n",
       "      <td>969</td>\n",
       "      <td>970</td>\n",
       "      <td>4020</td>\n",
       "      <td>25000</td>\n",
       "      <td>&lt;</td>\n",
       "      <td>4</td>\n",
       "      <td>23000</td>\n",
       "      <td>24555.0</td>\n",
       "      <td>24230</td>\n",
       "      <td>23000</td>\n",
       "      <td>1230</td>\n",
       "      <td>2000</td>\n",
       "      <td>445.0</td>\n",
       "      <td>prag</td>\n",
       "    </tr>\n",
       "    <tr>\n",
       "      <th>86</th>\n",
       "      <td>978</td>\n",
       "      <td>979</td>\n",
       "      <td>4029</td>\n",
       "      <td>25000</td>\n",
       "      <td>&lt;</td>\n",
       "      <td>4</td>\n",
       "      <td>1</td>\n",
       "      <td>24589.0</td>\n",
       "      <td>24999</td>\n",
       "      <td>1</td>\n",
       "      <td>24998</td>\n",
       "      <td>24999</td>\n",
       "      <td>411.0</td>\n",
       "      <td>sem</td>\n",
       "    </tr>\n",
       "    <tr>\n",
       "      <th>87</th>\n",
       "      <td>984</td>\n",
       "      <td>985</td>\n",
       "      <td>4035</td>\n",
       "      <td>25000</td>\n",
       "      <td>&lt;</td>\n",
       "      <td>4</td>\n",
       "      <td>24000</td>\n",
       "      <td>24800.0</td>\n",
       "      <td>24999</td>\n",
       "      <td>24000</td>\n",
       "      <td>999</td>\n",
       "      <td>1000</td>\n",
       "      <td>200.0</td>\n",
       "      <td>prag</td>\n",
       "    </tr>\n",
       "    <tr>\n",
       "      <th>88</th>\n",
       "      <td>997</td>\n",
       "      <td>998</td>\n",
       "      <td>4048</td>\n",
       "      <td>25000</td>\n",
       "      <td>&lt;</td>\n",
       "      <td>4</td>\n",
       "      <td>0</td>\n",
       "      <td>24050.0</td>\n",
       "      <td>24999</td>\n",
       "      <td>0</td>\n",
       "      <td>24999</td>\n",
       "      <td>25000</td>\n",
       "      <td>950.0</td>\n",
       "      <td>sem</td>\n",
       "    </tr>\n",
       "  </tbody>\n",
       "</table>\n",
       "<p>89 rows × 14 columns</p>\n",
       "</div>"
      ],
      "text/plain": [
       "    index   id  participant      c  q  r     lb        p     ub     ib  \\\n",
       "0      19   20         1020  19000  >  3  19100  19400.0  20000  20000   \n",
       "1      24   25         1025  19000  >  3  18000  19200.0  20000  20000   \n",
       "2      35   36         1036  19000  >  3  19000  19750.0  20000  20000   \n",
       "3      38   39         1039  19000  >  3  19001  19001.0  20000  20000   \n",
       "4      50   51         1001  16000  <  3  15000  15600.0  16000  15000   \n",
       "..    ...  ...          ...    ... .. ..    ...      ...    ...    ...   \n",
       "84    928  929         4029  20000  >  5  20001  25690.0  50000  50000   \n",
       "85    969  970         4020  25000  <  4  23000  24555.0  24230  23000   \n",
       "86    978  979         4029  25000  <  4      1  24589.0  24999      1   \n",
       "87    984  985         4035  25000  <  4  24000  24800.0  24999  24000   \n",
       "88    997  998         4048  25000  <  4      0  24050.0  24999      0   \n",
       "\n",
       "    int_lbub  int_cib  int_cp interpret  \n",
       "0        900     1000   400.0      prag  \n",
       "1       2000     1000   200.0      prag  \n",
       "2       1000     1000   750.0      prag  \n",
       "3        999     1000     1.0      prag  \n",
       "4       1000     1000   400.0      prag  \n",
       "..       ...      ...     ...       ...  \n",
       "84     29999    30000  5690.0      prag  \n",
       "85      1230     2000   445.0      prag  \n",
       "86     24998    24999   411.0       sem  \n",
       "87       999     1000   200.0      prag  \n",
       "88     24999    25000   950.0       sem  \n",
       "\n",
       "[89 rows x 14 columns]"
      ]
     },
     "execution_count": 126,
     "metadata": {},
     "output_type": "execute_result"
    }
   ],
   "source": [
    "df_exp_3.loc[(df_exp_3['p']%500 > 0) & (df_exp_3['p']>15000)].reset_index()"
   ]
  },
  {
   "cell_type": "code",
   "execution_count": 101,
   "metadata": {},
   "outputs": [
    {
     "data": {
      "text/plain": [
       "p    \n",
       "0.0      497\n",
       "100.0     13\n",
       "200.0     11\n",
       "250.0      9\n",
       "300.0      8\n",
       "50.0       7\n",
       "400.0      5\n",
       "1.0        4\n",
       "55.0       3\n",
       "299.0      2\n",
       "265.0      2\n",
       "104.0      1\n",
       "482.0      1\n",
       "89.0       1\n",
       "69.0       1\n",
       "478.0      1\n",
       "122.0      1\n",
       "43.0       1\n",
       "42.0       1\n",
       "25.0       1\n",
       "10.0       1\n",
       "106.0      1\n",
       "190.0      1\n",
       "143.0      1\n",
       "178.0      1\n",
       "453.0      1\n",
       "495.0      1\n",
       "232.0      1\n",
       "275.0      1\n",
       "280.0      1\n",
       "330.0      1\n",
       "345.0      1\n",
       "360.0      1\n",
       "374.0      1\n",
       "436.0      1\n",
       "499.0      1\n",
       "dtype: int64"
      ]
     },
     "execution_count": 101,
     "metadata": {},
     "output_type": "execute_result"
    }
   ],
   "source": [
    "(df_exp_3.loc[df_exp_3['p']>=15000,['p']]%500).value_counts()"
   ]
  }
 ],
 "metadata": {
  "kernelspec": {
   "display_name": "pymc3_models",
   "language": "python",
   "name": "pymc3_models"
  },
  "language_info": {
   "codemirror_mode": {
    "name": "ipython",
    "version": 3
   },
   "file_extension": ".py",
   "mimetype": "text/x-python",
   "name": "python",
   "nbconvert_exporter": "python",
   "pygments_lexer": "ipython3",
   "version": "3.8.5"
  }
 },
 "nbformat": 4,
 "nbformat_minor": 4
}
